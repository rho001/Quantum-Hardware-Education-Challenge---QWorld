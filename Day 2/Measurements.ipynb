{
 "cells": [
  {
   "cell_type": "markdown",
   "id": "380dfa87",
   "metadata": {},
   "source": [
    "<font style=\"font-size:28px;\" align=\"left\"><b> Measurements</b></font>\n",
    "<br>\n",
    "_prepared by Schrödinger Cats_\n",
    "<br><br>\n",
    "[<img src=\"../qworld/images/watch_lecture.jpg\" align=\"left\">](https://youtu.be/40xuWuwVgeA)\n",
    "<br><br><br>"
   ]
  },
  {
   "cell_type": "markdown",
   "id": "62cfd351",
   "metadata": {},
   "source": [
    "We will learn other types of measurements other than Homodyne measurement that we have used so far."
   ]
  },
  {
   "cell_type": "markdown",
   "id": "5be838ce",
   "metadata": {},
   "source": [
    "There are two other kinds of measurement that we can do on SF, these are the Heterodyne measurement and the photon counting measurement.\n",
    "\n",
    "The measurement operators are used in the same manner as all other quantum transformation operations in Blackbird:\n",
    "\n",
    "MeasurementOperator | (q[0], q[1], q[2], ...)\n",
    "\n",
    "where the left-hand side represents the measurement operator (along with any required or optional arguments), and the right-hand side signifies the modes which are to be measured."
   ]
  },
  {
   "cell_type": "markdown",
   "id": "63dfd6bb",
   "metadata": {},
   "source": [
    "<br>\n",
    "<font style=\"font-size:20px;\" align=\"left\"><b> Photon counting measurement </br>"
   ]
  },
  {
   "cell_type": "markdown",
   "id": "4860625e",
   "metadata": {},
   "source": [
    "Let's take a look at the photon counting measurement. Essentially, it counts how many photons are in the measured qumode. In SF, it is only supported in \"fock\" backend and not \"gaussian backend\". You can use \"gaussian backend\", but the state of the circuit will not be updated post-measurement."
   ]
  },
  {
   "cell_type": "code",
   "execution_count": 1,
   "id": "b4e56fc5",
   "metadata": {},
   "outputs": [],
   "source": [
    "#import necessary packages\n",
    "import numpy as np\n",
    "import strawberryfields as sf\n",
    "from strawberryfields.ops import *\n",
    "import matplotlib.pyplot as plt\n",
    "from scipy.stats import poisson"
   ]
  },
  {
   "cell_type": "code",
   "execution_count": 2,
   "id": "09bb6eda",
   "metadata": {},
   "outputs": [],
   "source": [
    "prog = sf.Program(1)\n",
    "\n",
    "#use Fock backend, cutoff_dim will control how accurate is the simulation,\n",
    "#the higher, the better\n",
    "\n",
    "eng = sf.Engine(\"fock\", backend_options={\"cutoff_dim\": 30})\n",
    "\n",
    "#define the circuit\n",
    "with prog.context as q:\n",
    "    #initialize as vacuum\n",
    "    Vac | q[0]\n",
    "    #apply Dgate with parameter 3, this means shifting alpha by 3\n",
    "    Dgate(3) | q[0]\n",
    "    #the expected photon number is 3^2 = 9\n",
    "    #apply photon counting\n",
    "    MeasureFock() | q[0]\n",
    "\n",
    "#number of runs\n",
    "n = 5000\n",
    "\n",
    "#declare an array to be filled with the photon counts\n",
    "counts = np.zeros(n)\n",
    "\n",
    "#run it n times\n",
    "for i in range(n):\n",
    "    results = eng.run(prog)\n",
    "    counts[i] = results.samples"
   ]
  },
  {
   "cell_type": "markdown",
   "id": "88a40f2d",
   "metadata": {},
   "source": [
    "The expected value of the photon number of a coherent state is $|\\alpha|^2$. Thus, here we expect it to be 9. How does the distribution look like?"
   ]
  },
  {
   "cell_type": "code",
   "execution_count": 3,
   "id": "e4d5b696",
   "metadata": {},
   "outputs": [
    {
     "data": {
      "image/png": "[encoded data removed]",
      "text/plain": [
       "<Figure size 432x288 with 1 Axes>"
      ]
     },
     "metadata": {
      "needs_background": "light"
     },
     "output_type": "display_data"
    }
   ],
   "source": [
    "plt.hist(counts,bins=int(counts.max() - counts.min()),density=True)\n",
    "plt.show()"
   ]
  },
  {
   "cell_type": "markdown",
   "id": "5fafd3ca",
   "metadata": {},
   "source": [
    "We can try to calculate the mean and variance of the counts."
   ]
  },
  {
   "cell_type": "code",
   "execution_count": 4,
   "id": "9e2d2dfe",
   "metadata": {},
   "outputs": [
    {
     "name": "stdout",
     "output_type": "stream",
     "text": [
      "8.9594\n",
      "9.32135164\n"
     ]
    }
   ],
   "source": [
    "print(np.mean(counts))\n",
    "print(np.var(counts))"
   ]
  },
  {
   "cell_type": "markdown",
   "id": "48399867",
   "metadata": {},
   "source": [
    "You can try to do it several times and see that the mean is very close to the variance, and it's close to our expected value, which is 9. This reminds us of a Poisson distribution! Well, does the histogram look like it? Let's try to generate the probability mass function of a Poisson distribution with mean 9 and superimpose it on our histogram, does it look very similar?"
   ]
  },
  {
   "cell_type": "code",
   "execution_count": 5,
   "id": "9858a37c",
   "metadata": {},
   "outputs": [
    {
     "data": {
      "image/png": "[encoded data removed]",
      "text/plain": [
       "<Figure size 432x288 with 1 Axes>"
      ]
     },
     "metadata": {
      "needs_background": "light"
     },
     "output_type": "display_data"
    }
   ],
   "source": [
    "# creating a numpy array for x-axis\n",
    "# using step size as 1\n",
    "x = np.arange(0, 30, 1)\n",
    " \n",
    "# poisson distribution data for y-axis\n",
    "y = poisson.pmf(x, mu=9, loc=0)\n",
    "\n",
    "# plotting the graph\n",
    "plt.plot(x, y)\n",
    "plt.hist(counts,bins=int(counts.max() - counts.min()),density=True)\n",
    "\n",
    "# showing the graph\n",
    "plt.show()"
   ]
  },
  {
   "cell_type": "markdown",
   "id": "e9409837",
   "metadata": {},
   "source": [
    "Indeed it matched really well with a Poisson distribution. You can in fact show that this is true in theory, but we won't do that here."
   ]
  },
  {
   "cell_type": "markdown",
   "id": "a89d3639",
   "metadata": {},
   "source": [
    "## Exercise 1"
   ]
  },
  {
   "cell_type": "markdown",
   "id": "5f209228",
   "metadata": {},
   "source": [
    "![Single-photon-on-a-beam-splitter.png](attachment:Single-photon-on-a-beam-splitter.png)"
   ]
  },
  {
   "cell_type": "markdown",
   "id": "6aa51d3d",
   "metadata": {},
   "source": [
    "Remember the experiment described yesterday? Let's try to implement the experiment in SF.\n",
    "\n",
    "You have seen that a displaced vacuum state does not have a definite number of photon (it is Poisson distributed). It turns out that the state of light that has a definite number of photon is called photon number state or Fock state. Let's try to see that"
   ]
  },
  {
   "cell_type": "code",
   "execution_count": 6,
   "id": "14075941",
   "metadata": {},
   "outputs": [],
   "source": [
    "prog = sf.Program(1)\n",
    "\n",
    "#use Fock backend, cutoff_dim will control how accurate is the simulation,\n",
    "#the higher, the better\n",
    "\n",
    "eng = sf.Engine(\"fock\", backend_options={\"cutoff_dim\": 30})\n",
    "\n",
    "#define the circuit\n",
    "with prog.context as q:\n",
    "    #initialize as Fock state\n",
    "    Fock(2) | q[0]\n",
    "    #apply photon counting\n",
    "    MeasureFock() | q[0]\n",
    "\n",
    "#number of runs\n",
    "n = 100\n",
    "\n",
    "#declare an array to be filled with the photon counts\n",
    "counts = np.zeros(n)\n",
    "\n",
    "#run it n times\n",
    "for i in range(n):\n",
    "    results = eng.run(prog)\n",
    "    counts[i] = results.samples"
   ]
  },
  {
   "cell_type": "code",
   "execution_count": 7,
   "id": "2ec8b98a",
   "metadata": {},
   "outputs": [
    {
     "name": "stdout",
     "output_type": "stream",
     "text": [
      "[2. 2. 2. 2. 2. 2. 2. 2. 2. 2. 2. 2. 2. 2. 2. 2. 2. 2. 2. 2. 2. 2. 2. 2.\n",
      " 2. 2. 2. 2. 2. 2. 2. 2. 2. 2. 2. 2. 2. 2. 2. 2. 2. 2. 2. 2. 2. 2. 2. 2.\n",
      " 2. 2. 2. 2. 2. 2. 2. 2. 2. 2. 2. 2. 2. 2. 2. 2. 2. 2. 2. 2. 2. 2. 2. 2.\n",
      " 2. 2. 2. 2. 2. 2. 2. 2. 2. 2. 2. 2. 2. 2. 2. 2. 2. 2. 2. 2. 2. 2. 2. 2.\n",
      " 2. 2. 2. 2.]\n"
     ]
    }
   ],
   "source": [
    "print(counts)"
   ]
  },
  {
   "cell_type": "markdown",
   "id": "b6c10c14",
   "metadata": {},
   "source": [
    "Let's try to send a single photon though a 50/50 beamsplitter and detect the number of photons at each output."
   ]
  },
  {
   "cell_type": "code",
   "execution_count": 8,
   "id": "13cc2bb3",
   "metadata": {},
   "outputs": [],
   "source": [
    "#YOUR SOLUTION HERE"
   ]
  },
  {
   "cell_type": "markdown",
   "id": "0569f4e2",
   "metadata": {},
   "source": [
    "<br>\n",
    "<font style=\"font-size:20px;\" align=\"left\"><b> Heterodyne measurement </br>"
   ]
  },
  {
   "cell_type": "markdown",
   "id": "17ecb962",
   "metadata": {},
   "source": [
    "Another measurement that we can do is called a Heterodyne measurement. This is somewhat similar to a Homodyne measurement except now instead of measuring a single quadrature, you get the values of two orthogonal quadratures at the same time which is returned to you as a complex number (the real part is the X quadrature and the imaginary part is the P quadrature)."
   ]
  },
  {
   "cell_type": "code",
   "execution_count": 9,
   "id": "b4ddb06f",
   "metadata": {},
   "outputs": [
    {
     "data": {
      "text/plain": [
       "array([[0.34069994-0.1693348j]])"
      ]
     },
     "execution_count": 9,
     "metadata": {},
     "output_type": "execute_result"
    }
   ],
   "source": [
    "prog = sf.Program(1)\n",
    "eng = sf.Engine(\"gaussian\")\n",
    "\n",
    "#define the circuit\n",
    "with prog.context as q:\n",
    "    #initialize as vacuum\n",
    "    Vac | q[0]\n",
    "    #apply Dgate with parameter 1, this means shifting alpha by 1\n",
    "    Dgate(1) | q[0]\n",
    "    #apply photon counting\n",
    "    MeasureHeterodyne() | q[0]\n",
    "\n",
    "results = eng.run(prog)\n",
    "results.samples"
   ]
  },
  {
   "cell_type": "markdown",
   "id": "0f3f562d",
   "metadata": {},
   "source": [
    "You might wonder if the Heterodyne measurement can measure two quadratures at the same time, why don't we always use it? The answer is that, Heterodyne measurement is noisier compared to Homodyne measurement. How much noisier? Let's try to find it out."
   ]
  },
  {
   "cell_type": "code",
   "execution_count": 10,
   "id": "1b137d62",
   "metadata": {},
   "outputs": [],
   "source": [
    "prog = sf.Program(1)\n",
    "eng = sf.Engine(\"gaussian\")\n",
    "\n",
    "#define the circuit\n",
    "with prog.context as q:\n",
    "    #initialize as vacuum\n",
    "    Vac | q[0]\n",
    "    #apply Dgate with parameter 1, this means shifting alpha by 1\n",
    "    Dgate(1) | q[0]\n",
    "    #apply photon counting\n",
    "    MeasureHeterodyne() | q[0]\n",
    "\n",
    "#number of runs\n",
    "n = 5000\n",
    "\n",
    "#declare an array to be filled with the photon counts\n",
    "counts = np.zeros(n,dtype=complex)\n",
    "\n",
    "#run it n times\n",
    "for i in range(n):\n",
    "    results = eng.run(prog)\n",
    "    counts[i] = results.samples\n",
    "\n",
    "#due to the units used by SF, we need to multiply by two to get x + i*p\n",
    "counts = counts*2"
   ]
  },
  {
   "cell_type": "code",
   "execution_count": 11,
   "id": "4842618d",
   "metadata": {},
   "outputs": [
    {
     "data": {
      "image/png": "[encoded data removed]",
      "text/plain": [
       "<Figure size 432x288 with 1 Axes>"
      ]
     },
     "metadata": {
      "needs_background": "light"
     },
     "output_type": "display_data"
    }
   ],
   "source": [
    "plt.hist(counts.real, bins=20)\n",
    "plt.show()"
   ]
  },
  {
   "cell_type": "code",
   "execution_count": 12,
   "id": "58c3e52f",
   "metadata": {},
   "outputs": [
    {
     "data": {
      "image/png": "[encoded data removed]",
      "text/plain": [
       "<Figure size 432x288 with 1 Axes>"
      ]
     },
     "metadata": {
      "needs_background": "light"
     },
     "output_type": "display_data"
    }
   ],
   "source": [
    "plt.hist(counts.imag, bins=20)\n",
    "plt.show()"
   ]
  },
  {
   "cell_type": "code",
   "execution_count": 13,
   "id": "41c36c87",
   "metadata": {},
   "outputs": [
    {
     "name": "stdout",
     "output_type": "stream",
     "text": [
      "Variance of the X quadrature is 2.0479989555760207\n",
      "Variance of the P quadrature is 1.9679936292450282\n"
     ]
    }
   ],
   "source": [
    "print(\"Variance of the X quadrature is\",counts.real.var())\n",
    "print(\"Variance of the P quadrature is\",counts.imag.var())"
   ]
  },
  {
   "cell_type": "code",
   "execution_count": 14,
   "id": "b3ac3148",
   "metadata": {},
   "outputs": [],
   "source": [
    "prog = sf.Program(1)\n",
    "eng = sf.Engine(\"gaussian\")\n",
    "\n",
    "#define the circuit\n",
    "with prog.context as q:\n",
    "    #initialize as vacuum\n",
    "    Vac | q[0]\n",
    "    #apply Dgate with parameter 1, this means shifting alpha by 1\n",
    "    Dgate(1) | q[0]\n",
    "    #apply photon counting\n",
    "    MeasureHomodyne(0) | q[0]\n",
    "\n",
    "#number of runs\n",
    "n = 5000\n",
    "\n",
    "#declare an array to be filled with the photon counts\n",
    "countsX = np.zeros(n)\n",
    "\n",
    "#run it n times\n",
    "for i in range(n):\n",
    "    results = eng.run(prog)\n",
    "    countsX[i] = results.samples"
   ]
  },
  {
   "cell_type": "code",
   "execution_count": 15,
   "id": "1c06b729",
   "metadata": {},
   "outputs": [
    {
     "data": {
      "image/png": "[encoded data removed]",
      "text/plain": [
       "<Figure size 432x288 with 1 Axes>"
      ]
     },
     "metadata": {
      "needs_background": "light"
     },
     "output_type": "display_data"
    }
   ],
   "source": [
    "plt.hist(countsX, bins=20)\n",
    "plt.show()"
   ]
  },
  {
   "cell_type": "code",
   "execution_count": 16,
   "id": "07095cc7",
   "metadata": {},
   "outputs": [],
   "source": [
    "prog = sf.Program(1)\n",
    "eng = sf.Engine(\"gaussian\")\n",
    "\n",
    "#define the circuit\n",
    "with prog.context as q:\n",
    "    #initialize as vacuum\n",
    "    Vac | q[0]\n",
    "    #apply Dgate with parameter 1, this means shifting alpha by 1\n",
    "    Dgate(1) | q[0]\n",
    "    #apply photon counting\n",
    "    MeasureHomodyne(np.pi/2) | q[0]\n",
    "\n",
    "#number of runs\n",
    "n = 5000\n",
    "\n",
    "#declare an array to be filled with the photon counts\n",
    "countsP = np.zeros(n)\n",
    "\n",
    "#run it n times\n",
    "for i in range(n):\n",
    "    results = eng.run(prog)\n",
    "    countsP[i] = results.samples"
   ]
  },
  {
   "cell_type": "code",
   "execution_count": 17,
   "id": "f096ec4f",
   "metadata": {},
   "outputs": [
    {
     "data": {
      "image/png": "[encoded data removed]",
      "text/plain": [
       "<Figure size 432x288 with 1 Axes>"
      ]
     },
     "metadata": {
      "needs_background": "light"
     },
     "output_type": "display_data"
    }
   ],
   "source": [
    "plt.hist(countsP, bins=20)\n",
    "plt.show()"
   ]
  },
  {
   "cell_type": "code",
   "execution_count": 18,
   "id": "80667b6a",
   "metadata": {},
   "outputs": [
    {
     "name": "stdout",
     "output_type": "stream",
     "text": [
      "Variance of the X quadrature is 1.0143217789608119\n",
      "Variance of the P quadrature is 1.015800683516209\n"
     ]
    }
   ],
   "source": [
    "print(\"Variance of the X quadrature is\",countsX.var())\n",
    "print(\"Variance of the P quadrature is\",countsP.var())"
   ]
  },
  {
   "cell_type": "markdown",
   "id": "84eaff9e",
   "metadata": {},
   "source": [
    "As you can see, the variance of the quadratures measured by Heterodyne detection is twice the variance of the quadratures measured by the Homodyne detector. However, Heterodyne can simultaneously measure the X and P quadratures, whereas Homodyne can only measure one.\n",
    "\n",
    "As you might have noticed, Homodyne measurement has a single parameter (which is the angle of the quadrature axis that we measure). Heterodyne measurement does not take this parameter and measure X and P quadrature (angle 0 and 90 degrees) by default. Is it possible to perform Heterodyne measurement at a different angle? In fact, this is a very easy thing to do. Can you think of a way to do it?"
   ]
  },
  {
   "cell_type": "markdown",
   "id": "0c942070",
   "metadata": {},
   "source": [
    "## Exercise 2"
   ]
  },
  {
   "cell_type": "markdown",
   "id": "77738068",
   "metadata": {},
   "source": [
    "Write a code to perform Heterodyne measurement that measure both $x_{\\pi/4}$ and $x_{3\\pi/4}$ simultaneously on a squeezed state which has parameters r = 1 and $\\phi = \\pi/4$. Compute both variance of $x_{\\pi/4}$ and $x_{3\\pi/4}$ in 5000 tries."
   ]
  },
  {
   "cell_type": "code",
   "execution_count": 19,
   "id": "b10394d9",
   "metadata": {},
   "outputs": [],
   "source": [
    "#YOUR SOLUTION HERE"
   ]
  },
  {
   "cell_type": "markdown",
   "id": "6fd5581c",
   "metadata": {},
   "source": [
    "## Homodyne measurement of Fock state"
   ]
  },
  {
   "cell_type": "markdown",
   "id": "be22e0af",
   "metadata": {},
   "source": [
    "As you have learned, Fock state is a state of definite number of photons. You might wonder how does the quadrature looks like? You can easily perform a Homodyne measurement to see it yourself."
   ]
  },
  {
   "cell_type": "code",
   "execution_count": null,
   "id": "0d4e7436",
   "metadata": {},
   "outputs": [],
   "source": [
    "prog = sf.Program(1)\n",
    "\n",
    "with prog.context as q:\n",
    "    Fock(n=1) | q[0]\n",
    "    MeasureHomodyne(phi=0) | q[0] #random \n",
    "\n",
    "eng = sf.Engine(backend='fock',backend_options={\"cutoff_dim\": 6})\n",
    "n=10000\n",
    "q=np.zeros(n)\n",
    "for i in range(0,n):\n",
    "    result=eng.run(prog)\n",
    "    q[i]=result.samples[0][0]"
   ]
  },
  {
   "cell_type": "code",
   "execution_count": null,
   "id": "8c9e2f44",
   "metadata": {},
   "outputs": [],
   "source": [
    "plt.hist(q,bins=100);"
   ]
  }
 ],
 "metadata": {
  "kernelspec": {
   "display_name": "Python 3 (ipykernel)",
   "language": "python",
   "name": "python3"
  },
  "language_info": {
   "codemirror_mode": {
    "name": "ipython",
    "version": 3
   },
   "file_extension": ".py",
   "mimetype": "text/x-python",
   "name": "python",
   "nbconvert_exporter": "python",
   "pygments_lexer": "ipython3",
   "version": "3.9.12"
  },
  "toc": {
   "nav_menu": {},
   "number_sections": true,
   "sideBar": true,
   "skip_h1_title": false,
   "toc_cell": false,
   "toc_position": {},
   "toc_section_display": "block",
   "toc_window_display": false
  }
 },
 "nbformat": 4,
 "nbformat_minor": 5
}
